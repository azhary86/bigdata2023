{
  "nbformat": 4,
  "nbformat_minor": 0,
  "metadata": {
    "colab": {
      "provenance": [],
      "authorship_tag": "ABX9TyMG7zHblRzTTMC41ZsMN4O/",
      "include_colab_link": true
    },
    "kernelspec": {
      "name": "python3",
      "display_name": "Python 3"
    },
    "language_info": {
      "name": "python"
    }
  },
  "cells": [
    {
      "cell_type": "markdown",
      "metadata": {
        "id": "view-in-github",
        "colab_type": "text"
      },
      "source": [
        "<a href=\"https://colab.research.google.com/github/azhary86/bigdata2023/blob/main/Assignment-9_1.ipynb\" target=\"_parent\"><img src=\"https://colab.research.google.com/assets/colab-badge.svg\" alt=\"Open In Colab\"/></a>"
      ]
    },
    {
      "cell_type": "code",
      "execution_count": 1,
      "metadata": {
        "colab": {
          "base_uri": "https://localhost:8080/"
        },
        "id": "npS3lSQDoIeE",
        "outputId": "b6a79630-f82f-4440-8cb9-6eb979ea9d4b"
      },
      "outputs": [
        {
          "output_type": "stream",
          "name": "stdout",
          "text": [
            "Mounted at /content/gdrive\n"
          ]
        }
      ],
      "source": [
        "from google.colab import drive\n",
        "drive.mount('/content/gdrive')"
      ]
    },
    {
      "cell_type": "code",
      "source": [
        "%%capture\n",
        "!sudo apt-get update --fix-missing\n",
        "\n",
        "!apt-get install openjdk-8-jdk-headless -qq > /dev/null\n",
        "\n",
        "!wget -q https://archive.apache.org/dist/spark/spark-3.0.0/spark-3.0.0-bin-hadoop3.2.tgz\n",
        "\n",
        "#!mv spark-3.0.0-bin-hadoop3.2.tgz sparkkk\n",
        "!tar xf spark-3.0.0-bin-hadoop3.2.tgz\n",
        "!pip install -q findspark"
      ],
      "metadata": {
        "id": "p_mkubUTodNC"
      },
      "execution_count": 2,
      "outputs": []
    },
    {
      "cell_type": "code",
      "source": [
        "import os\n",
        "os.environ[\"JAVA_HOME\"] = \"/usr/lib/jvm/java-8-openjdk-amd64\"\n",
        "os.environ[\"SPARK_HOME\"] = \"/content/spark-3.0.0-bin-hadoop3.2\"\n",
        "\n",
        "import findspark\n",
        "findspark.init()\n",
        "\n",
        "from pyspark.sql import SparkSession\n",
        "spark = SparkSession.builder.master(\"local[*]\").getOrCreate()\n",
        "\n",
        "spark.conf.set(\"spark.sql.repl.eagerEval.enabled\", True)\n",
        "\n",
        "spark"
      ],
      "metadata": {
        "colab": {
          "base_uri": "https://localhost:8080/",
          "height": 219
        },
        "id": "4k77oDaIoxur",
        "outputId": "13090836-9764-4d2a-a69c-245edf34772e"
      },
      "execution_count": 3,
      "outputs": [
        {
          "output_type": "execute_result",
          "data": {
            "text/plain": [
              "<pyspark.sql.session.SparkSession at 0x7f80dc40c880>"
            ],
            "text/html": [
              "\n",
              "            <div>\n",
              "                <p><b>SparkSession - in-memory</b></p>\n",
              "                \n",
              "        <div>\n",
              "            <p><b>SparkContext</b></p>\n",
              "\n",
              "            <p><a href=\"http://41bfbacb06d1:4040\">Spark UI</a></p>\n",
              "\n",
              "            <dl>\n",
              "              <dt>Version</dt>\n",
              "                <dd><code>v3.0.0</code></dd>\n",
              "              <dt>Master</dt>\n",
              "                <dd><code>local[*]</code></dd>\n",
              "              <dt>AppName</dt>\n",
              "                <dd><code>pyspark-shell</code></dd>\n",
              "            </dl>\n",
              "        </div>\n",
              "        \n",
              "            </div>\n",
              "        "
            ]
          },
          "metadata": {},
          "execution_count": 3
        }
      ]
    },
    {
      "cell_type": "code",
      "source": [
        "from pyspark.ml.evaluation import RegressionEvaluator\n",
        "from pyspark.ml.recommendation import ALS\n",
        "from pyspark.sql import Row"
      ],
      "metadata": {
        "id": "E2PUfbEfqE7d"
      },
      "execution_count": 4,
      "outputs": []
    },
    {
      "cell_type": "code",
      "source": [
        "lines = spark.read.text(\"/content/gdrive/My Drive/bigdata2023/sample_movielens_ratings.txt\").rdd\n",
        "parts = lines.map(lambda row: row.value.split(\"::\"))\n",
        "ratingsRDD = parts.map(lambda p: Row(userId=int(p[0]), movieId=int(p[1]),\n",
        "                                     rating=float(p[2]), timestamp=int(p[3])))\n",
        "ratings = spark.createDataFrame(ratingsRDD)\n",
        "(training, test) = ratings.randomSplit([0.8, 0.2])\n",
        "ratings"
      ],
      "metadata": {
        "colab": {
          "base_uri": "https://localhost:8080/",
          "height": 529
        },
        "id": "eUw2QVqyqlXi",
        "outputId": "f4778686-8e1c-4dae-b4e2-34227d41cb78"
      },
      "execution_count": 5,
      "outputs": [
        {
          "output_type": "execute_result",
          "data": {
            "text/plain": [
              "+------+-------+------+----------+\n",
              "|userId|movieId|rating| timestamp|\n",
              "+------+-------+------+----------+\n",
              "|     0|      2|   3.0|1424380312|\n",
              "|     0|      3|   1.0|1424380312|\n",
              "|     0|      5|   2.0|1424380312|\n",
              "|     0|      9|   4.0|1424380312|\n",
              "|     0|     11|   1.0|1424380312|\n",
              "|     0|     12|   2.0|1424380312|\n",
              "|     0|     15|   1.0|1424380312|\n",
              "|     0|     17|   1.0|1424380312|\n",
              "|     0|     19|   1.0|1424380312|\n",
              "|     0|     21|   1.0|1424380312|\n",
              "|     0|     23|   1.0|1424380312|\n",
              "|     0|     26|   3.0|1424380312|\n",
              "|     0|     27|   1.0|1424380312|\n",
              "|     0|     28|   1.0|1424380312|\n",
              "|     0|     29|   1.0|1424380312|\n",
              "|     0|     30|   1.0|1424380312|\n",
              "|     0|     31|   1.0|1424380312|\n",
              "|     0|     34|   1.0|1424380312|\n",
              "|     0|     37|   1.0|1424380312|\n",
              "|     0|     41|   2.0|1424380312|\n",
              "+------+-------+------+----------+\n",
              "only showing top 20 rows"
            ],
            "text/html": [
              "<table border='1'>\n",
              "<tr><th>userId</th><th>movieId</th><th>rating</th><th>timestamp</th></tr>\n",
              "<tr><td>0</td><td>2</td><td>3.0</td><td>1424380312</td></tr>\n",
              "<tr><td>0</td><td>3</td><td>1.0</td><td>1424380312</td></tr>\n",
              "<tr><td>0</td><td>5</td><td>2.0</td><td>1424380312</td></tr>\n",
              "<tr><td>0</td><td>9</td><td>4.0</td><td>1424380312</td></tr>\n",
              "<tr><td>0</td><td>11</td><td>1.0</td><td>1424380312</td></tr>\n",
              "<tr><td>0</td><td>12</td><td>2.0</td><td>1424380312</td></tr>\n",
              "<tr><td>0</td><td>15</td><td>1.0</td><td>1424380312</td></tr>\n",
              "<tr><td>0</td><td>17</td><td>1.0</td><td>1424380312</td></tr>\n",
              "<tr><td>0</td><td>19</td><td>1.0</td><td>1424380312</td></tr>\n",
              "<tr><td>0</td><td>21</td><td>1.0</td><td>1424380312</td></tr>\n",
              "<tr><td>0</td><td>23</td><td>1.0</td><td>1424380312</td></tr>\n",
              "<tr><td>0</td><td>26</td><td>3.0</td><td>1424380312</td></tr>\n",
              "<tr><td>0</td><td>27</td><td>1.0</td><td>1424380312</td></tr>\n",
              "<tr><td>0</td><td>28</td><td>1.0</td><td>1424380312</td></tr>\n",
              "<tr><td>0</td><td>29</td><td>1.0</td><td>1424380312</td></tr>\n",
              "<tr><td>0</td><td>30</td><td>1.0</td><td>1424380312</td></tr>\n",
              "<tr><td>0</td><td>31</td><td>1.0</td><td>1424380312</td></tr>\n",
              "<tr><td>0</td><td>34</td><td>1.0</td><td>1424380312</td></tr>\n",
              "<tr><td>0</td><td>37</td><td>1.0</td><td>1424380312</td></tr>\n",
              "<tr><td>0</td><td>41</td><td>2.0</td><td>1424380312</td></tr>\n",
              "</table>\n",
              "only showing top 20 rows\n"
            ]
          },
          "metadata": {},
          "execution_count": 5
        }
      ]
    },
    {
      "cell_type": "markdown",
      "source": [
        "# **regParam 0.1**\n",
        "\n",
        "Max iter 5"
      ],
      "metadata": {
        "id": "FMjmpQz5rQWO"
      }
    },
    {
      "cell_type": "code",
      "source": [
        "als = ALS(maxIter=5, regParam=0.1, userCol=\"userId\", itemCol=\"movieId\", ratingCol=\"rating\",\n",
        "          coldStartStrategy=\"drop\")\n",
        "model = als.fit(training)"
      ],
      "metadata": {
        "id": "W7B7rNCerMpC"
      },
      "execution_count": 6,
      "outputs": []
    },
    {
      "cell_type": "code",
      "source": [
        "predictions = model.transform(test)\n",
        "evaluator = RegressionEvaluator(metricName=\"rmse\", labelCol=\"rating\",\n",
        "                                predictionCol=\"prediction\")\n",
        "rmse = evaluator.evaluate(predictions)\n",
        "rmse"
      ],
      "metadata": {
        "colab": {
          "base_uri": "https://localhost:8080/"
        },
        "id": "i8C0TZJOrf1L",
        "outputId": "e4e98d92-f47f-4b8e-c464-7b18a2579e82"
      },
      "execution_count": 7,
      "outputs": [
        {
          "output_type": "execute_result",
          "data": {
            "text/plain": [
              "1.1168409738974592"
            ]
          },
          "metadata": {},
          "execution_count": 7
        }
      ]
    },
    {
      "cell_type": "markdown",
      "source": [
        "Max iter 10"
      ],
      "metadata": {
        "id": "K_LQbrcUrpaA"
      }
    },
    {
      "cell_type": "code",
      "source": [
        "als = ALS(maxIter=10, regParam=0.1, userCol=\"userId\", itemCol=\"movieId\", ratingCol=\"rating\",\n",
        "          coldStartStrategy=\"drop\")\n",
        "model = als.fit(training)"
      ],
      "metadata": {
        "id": "C3-yTSuLr_rq"
      },
      "execution_count": 8,
      "outputs": []
    },
    {
      "cell_type": "code",
      "source": [
        "predictions = model.transform(test)\n",
        "evaluator = RegressionEvaluator(metricName=\"rmse\", labelCol=\"rating\",\n",
        "                                predictionCol=\"prediction\")\n",
        "rmse = evaluator.evaluate(predictions)\n",
        "rmse"
      ],
      "metadata": {
        "colab": {
          "base_uri": "https://localhost:8080/"
        },
        "id": "-Kdy1lbgr4KY",
        "outputId": "60bc3649-5789-499a-e88e-ac1b15dd93ec"
      },
      "execution_count": 9,
      "outputs": [
        {
          "output_type": "execute_result",
          "data": {
            "text/plain": [
              "1.0520832510157423"
            ]
          },
          "metadata": {},
          "execution_count": 9
        }
      ]
    },
    {
      "cell_type": "markdown",
      "source": [
        "Max iter 20"
      ],
      "metadata": {
        "id": "YdH2ELCysCcS"
      }
    },
    {
      "cell_type": "code",
      "source": [
        "als = ALS(maxIter=20, regParam=0.1, userCol=\"userId\", itemCol=\"movieId\", ratingCol=\"rating\",\n",
        "          coldStartStrategy=\"drop\")\n",
        "model = als.fit(training)"
      ],
      "metadata": {
        "id": "CjyCWZoqsEW4"
      },
      "execution_count": 10,
      "outputs": []
    },
    {
      "cell_type": "code",
      "source": [
        "predictions = model.transform(test)\n",
        "evaluator = RegressionEvaluator(metricName=\"rmse\", labelCol=\"rating\",\n",
        "                                predictionCol=\"prediction\")\n",
        "rmse = evaluator.evaluate(predictions)\n",
        "rmse"
      ],
      "metadata": {
        "colab": {
          "base_uri": "https://localhost:8080/"
        },
        "id": "HnNlA6IdsE9q",
        "outputId": "6e1fddc2-bf7d-402b-c612-4daf5885e399"
      },
      "execution_count": 11,
      "outputs": [
        {
          "output_type": "execute_result",
          "data": {
            "text/plain": [
              "1.0356696368758882"
            ]
          },
          "metadata": {},
          "execution_count": 11
        }
      ]
    },
    {
      "cell_type": "markdown",
      "source": [
        "# **regParam 0.5**\n",
        "\n",
        "Max iter 5"
      ],
      "metadata": {
        "id": "L4iftduGsI3C"
      }
    },
    {
      "cell_type": "code",
      "source": [
        "als = ALS(maxIter=5, regParam=0.5, userCol=\"userId\", itemCol=\"movieId\", ratingCol=\"rating\",\n",
        "          coldStartStrategy=\"drop\")\n",
        "model = als.fit(training)"
      ],
      "metadata": {
        "id": "ljafb0CMsN87"
      },
      "execution_count": 12,
      "outputs": []
    },
    {
      "cell_type": "code",
      "source": [
        "predictions = model.transform(test)\n",
        "evaluator = RegressionEvaluator(metricName=\"rmse\", labelCol=\"rating\",\n",
        "                                predictionCol=\"prediction\")\n",
        "rmse = evaluator.evaluate(predictions)\n",
        "rmse"
      ],
      "metadata": {
        "colab": {
          "base_uri": "https://localhost:8080/"
        },
        "id": "sMWfx9hqsOAF",
        "outputId": "34f3d85b-b7d8-4ed3-ba17-d25c5b321fd7"
      },
      "execution_count": 13,
      "outputs": [
        {
          "output_type": "execute_result",
          "data": {
            "text/plain": [
              "1.3443237174800196"
            ]
          },
          "metadata": {},
          "execution_count": 13
        }
      ]
    },
    {
      "cell_type": "markdown",
      "source": [
        "Max iter 10"
      ],
      "metadata": {
        "id": "K0UiiEAGsOSa"
      }
    },
    {
      "cell_type": "code",
      "source": [
        "als = ALS(maxIter=10, regParam=0.5, userCol=\"userId\", itemCol=\"movieId\", ratingCol=\"rating\",\n",
        "          coldStartStrategy=\"drop\")\n",
        "model = als.fit(training)"
      ],
      "metadata": {
        "id": "pjT1sUHjsPmA"
      },
      "execution_count": 14,
      "outputs": []
    },
    {
      "cell_type": "code",
      "source": [
        "predictions = model.transform(test)\n",
        "evaluator = RegressionEvaluator(metricName=\"rmse\", labelCol=\"rating\",\n",
        "                                predictionCol=\"prediction\")\n",
        "rmse = evaluator.evaluate(predictions)\n",
        "rmse"
      ],
      "metadata": {
        "colab": {
          "base_uri": "https://localhost:8080/"
        },
        "id": "VzRmog5CsPo5",
        "outputId": "dce272e6-05c8-484f-f02e-f77312486e4c"
      },
      "execution_count": 15,
      "outputs": [
        {
          "output_type": "execute_result",
          "data": {
            "text/plain": [
              "1.341413631157068"
            ]
          },
          "metadata": {},
          "execution_count": 15
        }
      ]
    },
    {
      "cell_type": "markdown",
      "source": [
        "Max iter 20"
      ],
      "metadata": {
        "id": "SWPCSod9sPuA"
      }
    },
    {
      "cell_type": "code",
      "source": [
        "als = ALS(maxIter=20, regParam=0.5, userCol=\"userId\", itemCol=\"movieId\", ratingCol=\"rating\",\n",
        "          coldStartStrategy=\"drop\")\n",
        "model = als.fit(training)"
      ],
      "metadata": {
        "id": "dg3Cjbr5tQMK"
      },
      "execution_count": 16,
      "outputs": []
    },
    {
      "cell_type": "code",
      "source": [
        "predictions = model.transform(test)\n",
        "evaluator = RegressionEvaluator(metricName=\"rmse\", labelCol=\"rating\",\n",
        "                                predictionCol=\"prediction\")\n",
        "rmse = evaluator.evaluate(predictions)\n",
        "rmse"
      ],
      "metadata": {
        "colab": {
          "base_uri": "https://localhost:8080/"
        },
        "id": "MLFEXiErtQJB",
        "outputId": "eb2719a4-c195-4f60-ad5a-26461ddd275a"
      },
      "execution_count": 17,
      "outputs": [
        {
          "output_type": "execute_result",
          "data": {
            "text/plain": [
              "1.3415097125700757"
            ]
          },
          "metadata": {},
          "execution_count": 17
        }
      ]
    },
    {
      "cell_type": "markdown",
      "source": [
        "# **regParam 1.0**\n",
        "\n",
        "Max iter 5"
      ],
      "metadata": {
        "id": "Be9i0B-KsTxb"
      }
    },
    {
      "cell_type": "code",
      "source": [
        "als = ALS(maxIter=5, regParam=1.0, userCol=\"userId\", itemCol=\"movieId\", ratingCol=\"rating\",\n",
        "          coldStartStrategy=\"drop\")\n",
        "model = als.fit(training)"
      ],
      "metadata": {
        "id": "-AVbBdE9sXme"
      },
      "execution_count": 18,
      "outputs": []
    },
    {
      "cell_type": "code",
      "source": [
        "predictions = model.transform(test)\n",
        "evaluator = RegressionEvaluator(metricName=\"rmse\", labelCol=\"rating\",\n",
        "                                predictionCol=\"prediction\")\n",
        "rmse = evaluator.evaluate(predictions)\n",
        "rmse"
      ],
      "metadata": {
        "colab": {
          "base_uri": "https://localhost:8080/"
        },
        "id": "-cVVNYM_sXo6",
        "outputId": "c8520fd1-cd6b-4819-dc53-2a2877fc1fd1"
      },
      "execution_count": 19,
      "outputs": [
        {
          "output_type": "execute_result",
          "data": {
            "text/plain": [
              "1.636369427587814"
            ]
          },
          "metadata": {},
          "execution_count": 19
        }
      ]
    },
    {
      "cell_type": "markdown",
      "source": [
        "Max iter 10"
      ],
      "metadata": {
        "id": "3bzYsh_FsX-i"
      }
    },
    {
      "cell_type": "code",
      "source": [
        "als = ALS(maxIter=10, regParam=1.0, userCol=\"userId\", itemCol=\"movieId\", ratingCol=\"rating\",\n",
        "          coldStartStrategy=\"drop\")\n",
        "model = als.fit(training)"
      ],
      "metadata": {
        "id": "vv5ejlVWsZoN"
      },
      "execution_count": 20,
      "outputs": []
    },
    {
      "cell_type": "code",
      "source": [
        "predictions = model.transform(test)\n",
        "evaluator = RegressionEvaluator(metricName=\"rmse\", labelCol=\"rating\",\n",
        "                                predictionCol=\"prediction\")\n",
        "rmse = evaluator.evaluate(predictions)\n",
        "rmse"
      ],
      "metadata": {
        "colab": {
          "base_uri": "https://localhost:8080/"
        },
        "id": "fxoBrmuFsZqj",
        "outputId": "67227679-4ebc-4957-d40a-626dea93964f"
      },
      "execution_count": 21,
      "outputs": [
        {
          "output_type": "execute_result",
          "data": {
            "text/plain": [
              "1.636369422267838"
            ]
          },
          "metadata": {},
          "execution_count": 21
        }
      ]
    },
    {
      "cell_type": "markdown",
      "source": [
        "Max iter 20"
      ],
      "metadata": {
        "id": "DwUKvB25sYvc"
      }
    },
    {
      "cell_type": "code",
      "source": [
        "als = ALS(maxIter=20, regParam=1.0, userCol=\"userId\", itemCol=\"movieId\", ratingCol=\"rating\",\n",
        "          coldStartStrategy=\"drop\")\n",
        "model = als.fit(training)"
      ],
      "metadata": {
        "id": "6DnV5hPLsbRi"
      },
      "execution_count": 22,
      "outputs": []
    },
    {
      "cell_type": "code",
      "source": [
        "predictions = model.transform(test)\n",
        "evaluator = RegressionEvaluator(metricName=\"rmse\", labelCol=\"rating\",\n",
        "                                predictionCol=\"prediction\")\n",
        "rmse = evaluator.evaluate(predictions)\n",
        "rmse"
      ],
      "metadata": {
        "colab": {
          "base_uri": "https://localhost:8080/"
        },
        "id": "pwyGZyYtsbU1",
        "outputId": "0cc4d0b3-56f0-4d47-e8fb-b75a9caeabbf"
      },
      "execution_count": 23,
      "outputs": [
        {
          "output_type": "execute_result",
          "data": {
            "text/plain": [
              "1.6363694247340612"
            ]
          },
          "metadata": {},
          "execution_count": 23
        }
      ]
    },
    {
      "cell_type": "markdown",
      "source": [
        "# conclusion\n",
        "\n",
        "\n",
        "*   the higher regParam value, the higher RMSE (Root Mean Square Error) value\n",
        "*    \n",
        "\n"
      ],
      "metadata": {
        "id": "YvWOEozZsmFS"
      }
    },
    {
      "cell_type": "code",
      "source": [
        "userRecs = model.recommendForAllUsers(10)\n",
        "\n",
        "movieRecs = model.recommendForAllItems(10)\n",
        "\n",
        "\n",
        "users = ratings.select(als.getUserCol()).distinct().limit(3)\n",
        "userSubsetRecs = model.recommendForUserSubset(users, 10)\n",
        "\n",
        "movies = ratings.select(als.getItemCol()).distinct().limit(3)\n",
        "movieSubSetRecs = model.recommendForItemSubset(movies, 10)"
      ],
      "metadata": {
        "id": "Ufm8s8H_smUw"
      },
      "execution_count": 24,
      "outputs": []
    },
    {
      "cell_type": "code",
      "source": [
        "print(userRecs,users,userSubsetRecs)"
      ],
      "metadata": {
        "colab": {
          "base_uri": "https://localhost:8080/"
        },
        "id": "Lzh5hEFHsuXY",
        "outputId": "dcb519c5-9b54-4cb9-8215-6968b689ead6"
      },
      "execution_count": 25,
      "outputs": [
        {
          "output_type": "stream",
          "name": "stdout",
          "text": [
            "+------+--------------------+\n",
            "|userId|     recommendations|\n",
            "+------+--------------------+\n",
            "|    28|[[32, 1.5057156],...|\n",
            "|    26|[[32, 1.5691745],...|\n",
            "|    27|[[32, 1.2169762],...|\n",
            "|    12|[[32, 1.4280378],...|\n",
            "|    22|[[32, 1.653142], ...|\n",
            "|     1|[[32, 1.1779101],...|\n",
            "|    13|[[32, 1.1901962],...|\n",
            "|     6|[[32, 1.0206982],...|\n",
            "|    16|[[32, 1.4448189],...|\n",
            "|     3|[[32, 1.3756318],...|\n",
            "|    20|[[32, 1.414803], ...|\n",
            "|     5|[[32, 1.3723788],...|\n",
            "|    19|[[32, 1.1931331],...|\n",
            "|    15|[[32, 1.0174483],...|\n",
            "|    17|[[32, 1.5618776],...|\n",
            "|     9|[[32, 1.3695327],...|\n",
            "|     4|[[32, 1.1730655],...|\n",
            "|     8|[[32, 1.4640737],...|\n",
            "|    23|[[32, 1.6999125],...|\n",
            "|     7|[[32, 1.2330371],...|\n",
            "+------+--------------------+\n",
            "only showing top 20 rows\n",
            " +------+\n",
            "|userId|\n",
            "+------+\n",
            "|    26|\n",
            "|    29|\n",
            "|    19|\n",
            "+------+\n",
            " +------+--------------------+\n",
            "|userId|     recommendations|\n",
            "+------+--------------------+\n",
            "|    26|[[32, 1.5691745],...|\n",
            "|    19|[[32, 1.1931331],...|\n",
            "|    29|[[32, 1.4927351],...|\n",
            "+------+--------------------+\n",
            "\n"
          ]
        }
      ]
    },
    {
      "cell_type": "code",
      "source": [
        "print(movieRecs,movies,movieSubSetRecs)"
      ],
      "metadata": {
        "colab": {
          "base_uri": "https://localhost:8080/"
        },
        "id": "rJkFcRFzs7Qi",
        "outputId": "0411213e-651c-4095-c640-0e4f2dadef67"
      },
      "execution_count": 27,
      "outputs": [
        {
          "output_type": "stream",
          "name": "stdout",
          "text": [
            "+-------+--------------------+\n",
            "|movieId|     recommendations|\n",
            "+-------+--------------------+\n",
            "|     31|[[11, 1.004093], ...|\n",
            "|     85|[[11, 1.2112008],...|\n",
            "|     65|[[11, 1.1154374],...|\n",
            "|     53|[[11, 1.2445621],...|\n",
            "|     78|[[11, 0.59644693]...|\n",
            "|     34|[[11, 0.9516681],...|\n",
            "|     81|[[11, 1.4302608],...|\n",
            "|     28|[[11, 0.85641456]...|\n",
            "|     76|[[11, 1.2940328],...|\n",
            "|     26|[[11, 0.691625], ...|\n",
            "|     27|[[11, 1.4932251],...|\n",
            "|     44|[[11, 0.80313367]...|\n",
            "|     12|[[11, 1.0297291],...|\n",
            "|     91|[[11, 1.0683824],...|\n",
            "|     22|[[11, 1.1324949],...|\n",
            "|     93|[[11, 1.4512936],...|\n",
            "|     47|[[11, 0.95127094]...|\n",
            "|      1|[[11, 0.68917364]...|\n",
            "|     52|[[11, 1.4973824],...|\n",
            "|     13|[[11, 1.1191458],...|\n",
            "+-------+--------------------+\n",
            "only showing top 20 rows\n",
            " +-------+\n",
            "|movieId|\n",
            "+-------+\n",
            "|     26|\n",
            "|     29|\n",
            "|     65|\n",
            "+-------+\n",
            " +-------+--------------------+\n",
            "|movieId|     recommendations|\n",
            "+-------+--------------------+\n",
            "|     65|[[11, 1.1154374],...|\n",
            "|     26|[[11, 0.691625], ...|\n",
            "|     29|[[11, 1.3252512],...|\n",
            "+-------+--------------------+\n",
            "\n"
          ]
        }
      ]
    }
  ]
}