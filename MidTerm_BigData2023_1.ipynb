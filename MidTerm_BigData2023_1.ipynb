{
  "nbformat": 4,
  "nbformat_minor": 0,
  "metadata": {
    "colab": {
      "provenance": [],
      "authorship_tag": "ABX9TyO6YJfoRi6F7aE7sVDNaiu2",
      "include_colab_link": true
    },
    "kernelspec": {
      "name": "python3",
      "display_name": "Python 3"
    },
    "language_info": {
      "name": "python"
    }
  },
  "cells": [
    {
      "cell_type": "markdown",
      "metadata": {
        "id": "view-in-github",
        "colab_type": "text"
      },
      "source": [
        "<a href=\"https://colab.research.google.com/github/azhary86/bigdata2023/blob/main/MidTerm_BigData2023_1.ipynb\" target=\"_parent\"><img src=\"https://colab.research.google.com/assets/colab-badge.svg\" alt=\"Open In Colab\"/></a>"
      ]
    },
    {
      "cell_type": "code",
      "execution_count": 1,
      "metadata": {
        "colab": {
          "base_uri": "https://localhost:8080/"
        },
        "id": "K9VcSrPYZmUz",
        "outputId": "e79e1388-69fa-481e-e0e9-d8d5c23f74e2"
      },
      "outputs": [
        {
          "output_type": "stream",
          "name": "stdout",
          "text": [
            "Looking in indexes: https://pypi.org/simple, https://us-python.pkg.dev/colab-wheels/public/simple/\n",
            "Requirement already satisfied: pyspark in /usr/local/lib/python3.9/dist-packages (3.4.0)\n",
            "Requirement already satisfied: py4j==0.10.9.7 in /usr/local/lib/python3.9/dist-packages (from pyspark) (0.10.9.7)\n"
          ]
        }
      ],
      "source": [
        "!pip install pyspark"
      ]
    },
    {
      "cell_type": "code",
      "source": [
        "from pyspark.sql import SparkSession\n",
        "spark = SparkSession.builder.master(\"local\").appName(\"Streaming\").config('spark.ui.port', '4050').getOrCreate()"
      ],
      "metadata": {
        "id": "Qk43Q_SoaO4l"
      },
      "execution_count": 2,
      "outputs": []
    },
    {
      "cell_type": "code",
      "source": [
        "from pyspark.sql.types import *\n",
        "schema = StructType([\n",
        "StructField(\"link\",StringType(),True), \n",
        "StructField(\"headline\",StringType(),True), \n",
        "StructField(\"category\",StringType(),True),\n",
        "StructField(\"short_description\", StringType(), True),\n",
        "StructField(\"authors\", StringType(), True),\n",
        "StructField(\"date\", StringType(), True)])"
      ],
      "metadata": {
        "id": "-EWw0BjoaSzu"
      },
      "execution_count": 3,
      "outputs": []
    },
    {
      "cell_type": "code",
      "source": [
        "news_df = spark.readStream.format(\"json\").schema(schema).option(\"header\", True).load(\"streaming\")\n",
        "# news_df.printSchema()\n",
        "print(news_df.isStreaming)"
      ],
      "metadata": {
        "colab": {
          "base_uri": "https://localhost:8080/"
        },
        "id": "3O84dvHjbIzG",
        "outputId": "1af42a39-b222-4a7a-8d9a-053b0ffe990b"
      },
      "execution_count": 4,
      "outputs": [
        {
          "output_type": "stream",
          "name": "stdout",
          "text": [
            "True\n"
          ]
        }
      ]
    },
    {
      "cell_type": "code",
      "source": [
        "group_df = news_df.select(\"authors\").groupBy(\"authors\").count()\n",
        "group_df. printSchema()"
      ],
      "metadata": {
        "colab": {
          "base_uri": "https://localhost:8080/"
        },
        "id": "e51jD9_JfbcU",
        "outputId": "70510584-7a73-49fe-8658-76b56206326d"
      },
      "execution_count": 5,
      "outputs": [
        {
          "output_type": "stream",
          "name": "stdout",
          "text": [
            "root\n",
            " |-- authors: string (nullable = true)\n",
            " |-- count: long (nullable = false)\n",
            "\n"
          ]
        }
      ]
    },
    {
      "cell_type": "code",
      "source": [
        "results_df = news_df.select(\"*\")\n",
        "# query = (results_df.writeStream\n",
        "# .format(\"json\")\n",
        "# .queryName(\"selectTable\")\n",
        "# .option(\"checkpointLocation\", \"checkpoint\")\n",
        "# .option(\"path\", \"results\")\n",
        "# .outputMode(\"complete\")\n",
        "# .start()\n",
        "# .awaitTermination() \n",
        "# )\n",
        "\n",
        "query = (group_df.writeStream\n",
        ".format(\"console\")\n",
        ".outputMode(\"complete\")\n",
        ".start()\n",
        ".awaitTermination()\n",
        ")\n",
        "\n",
        "\n",
        "# result = results_df.writeStream\n",
        "# .format(\"console\")\n",
        "# .outputMode(\"complete\")\n",
        "# .start()\n",
        "\n",
        "# result.awaitTermination()"
      ],
      "metadata": {
        "id": "_Ipj-mFkctTM"
      },
      "execution_count": null,
      "outputs": []
    }
  ]
}